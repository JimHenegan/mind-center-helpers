{
 "cells": [
  {
   "cell_type": "code",
   "execution_count": null,
   "id": "4a4e4a4c-483e-4fd1-a22a-54f1267beaca",
   "metadata": {
    "tags": []
   },
   "outputs": [],
   "source": [
    "from google_auth_oauthlib.flow import InstalledAppFlow\n",
    "\n",
    "def use_creds_to_refresh_access_token(path_to_credentials, path_to_token):    \n",
    "  scopes = ['https://www.googleapis.com/auth/spreadsheets']\n",
    "  flow = InstalledAppFlow.from_client_secrets_file(path_to_credentials, scopes)\n",
    "  creds = flow.run_local_server(port=0)\n",
    "  with open(path_to_token, 'w') as token:\n",
    "    token.write(creds.to_json())\n",
    "    \n",
    "path_to_credentials = \"ENTER_PATH_TO_CREDENTIALS_HERE\"\n",
    "path_to_token = \"ENTER_PATH_TO_TOKEN_HERE\""
   ]
  },
  {
   "cell_type": "code",
   "execution_count": null,
   "id": "799c7012-01fe-4eb1-81e1-7c2190059c9d",
   "metadata": {},
   "outputs": [],
   "source": [
    "use_creds_to_refresh_access_token(path_to_credentials, path_to_token)"
   ]
  }
 ],
 "metadata": {
  "kernelspec": {
   "display_name": "Python 3 (ipykernel)",
   "language": "python",
   "name": "python3"
  },
  "language_info": {
   "codemirror_mode": {
    "name": "ipython",
    "version": 3
   },
   "file_extension": ".py",
   "mimetype": "text/x-python",
   "name": "python",
   "nbconvert_exporter": "python",
   "pygments_lexer": "ipython3",
   "version": "3.10.7"
  }
 },
 "nbformat": 4,
 "nbformat_minor": 5
}
