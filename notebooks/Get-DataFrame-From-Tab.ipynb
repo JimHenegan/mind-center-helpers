{
 "cells": [
  {
   "cell_type": "code",
   "execution_count": null,
   "id": "f676d5c3-e0a8-47de-a33c-88943e707c08",
   "metadata": {
    "tags": []
   },
   "outputs": [],
   "source": [
    "from google.oauth2.credentials import Credentials\n",
    "from googleapiclient.discovery import build\n",
    "import pandas as pd\n",
    "\n",
    "def build_spreadsheets_service(path_to_token):\n",
    "    creds = Credentials.from_authorized_user_file(path_to_token)\n",
    "    service = build('sheets', 'v4', credentials=creds)\n",
    "    sheets_service = service.spreadsheets()\n",
    "    return sheets_service\n",
    "\n",
    "def get_dataframe_from_tab(sheets_service, spreadsheet_id, tab_name, skip_rows=[]):    \n",
    "    \n",
    "    result = sheets_service.values().get(\n",
    "        spreadsheetId=spreadsheet_id,\n",
    "        range = tab_name\n",
    "    ).execute()\n",
    "\n",
    "    values = result['values']\n",
    "    data = [row for index, row in enumerate(values) if index not in skip_rows]\n",
    "\n",
    "    return pd.DataFrame(data[1:], columns=data[0])\n",
    "\n",
    "path_to_token = \"ENTER_PATH_TO_TOKEN_HERE\"\n",
    "spreadsheet_id = \"ENTER_SPREADSHEET_ID_HERE\"\n",
    "tab_name = \"ENTER_TAB_NAME_HERE\"\n",
    "\n",
    "# Update skip_rows as needed\n",
    "skip_rows = [1]"
   ]
  },
  {
   "cell_type": "code",
   "execution_count": null,
   "id": "f8ba587d-7f29-4796-ab35-992aad4c1692",
   "metadata": {},
   "outputs": [],
   "source": [
    "sheets_service = build_spreadsheets_service(path_to_token)\n",
    "df = get_dataframe_from_tab(sheets_service, spreadsheet_id, tab_name, skip_rows)"
   ]
  }
 ],
 "metadata": {
  "kernelspec": {
   "display_name": "Python 3 (ipykernel)",
   "language": "python",
   "name": "python3"
  },
  "language_info": {
   "codemirror_mode": {
    "name": "ipython",
    "version": 3
   },
   "file_extension": ".py",
   "mimetype": "text/x-python",
   "name": "python",
   "nbconvert_exporter": "python",
   "pygments_lexer": "ipython3",
   "version": "3.10.7"
  }
 },
 "nbformat": 4,
 "nbformat_minor": 5
}
